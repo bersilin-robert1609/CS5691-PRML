{
 "cells": [
  {
   "cell_type": "code",
   "execution_count": 2,
   "metadata": {},
   "outputs": [],
   "source": [
    "import pandas as pd\n",
    "import numpy as np\n",
    "import sklearn as sk\n",
    "import matplotlib.pyplot as plt\n",
    "import seaborn as sns\n",
    "import scipy.stats as stats"
   ]
  },
  {
   "cell_type": "code",
   "execution_count": null,
   "metadata": {},
   "outputs": [],
   "source": [
    "train_data = pd.read_csv('../data/train_data.csv')\n",
    "test_data = pd.read_csv('../data/sample_submission.csv')\n",
    "bookings_data = pd.read_csv('../data/bookings_data.csv')\n",
    "bookings = pd.read_csv('../data/bookings.csv')\n",
    "hotel_data = pd.read_csv('../data/hotels_data.csv')\n",
    "customer_data = pd.read_csv('../data/customer_data.csv')\n",
    "payments_data = pd.read_csv('../data/payments_data.csv')\n",
    "\n",
    "# merge booking data and booking data 2 according to the booking id\n",
    "booking_data_combined = pd.merge(bookings_data, bookings, on='booking_id')\n",
    "booking_data_combined.describe(include='all')\n",
    "\n",
    "# add rows which have 'created' as 'booking_status' to the booking_data_combined use pd.concat\n",
    "booking_data_combined = pd.concat([booking_data_combined, bookings[bookings['booking_status'] == 'created']], ignore_index=True)\n",
    "\n",
    "# split booking data_combined into 2 parts based on booking_id in train_data and test_data\n",
    "train_booking_data = booking_data_combined[booking_data_combined['booking_id'].isin(train_data['booking_id'])]\n",
    "test_booking_data = booking_data_combined[booking_data_combined['booking_id'].isin(test_data['booking_id'])]"
   ]
  },
  {
   "cell_type": "code",
   "execution_count": null,
   "metadata": {},
   "outputs": [],
   "source": [
    "booking_data_combined['booking_status'].value_counts()"
   ]
  },
  {
   "cell_type": "code",
   "execution_count": null,
   "metadata": {},
   "outputs": [],
   "source": [
    "train_booking_data.describe(include='all')"
   ]
  },
  {
   "cell_type": "code",
   "execution_count": null,
   "metadata": {},
   "outputs": [],
   "source": [
    "test_booking_data.describe(include='all')"
   ]
  },
  {
   "cell_type": "code",
   "execution_count": null,
   "metadata": {},
   "outputs": [],
   "source": []
  }
 ],
 "metadata": {
  "kernelspec": {
   "display_name": "Python 3.10.4 64-bit",
   "language": "python",
   "name": "python3"
  },
  "language_info": {
   "codemirror_mode": {
    "name": "ipython",
    "version": 3
   },
   "file_extension": ".py",
   "mimetype": "text/x-python",
   "name": "python",
   "nbconvert_exporter": "python",
   "pygments_lexer": "ipython3",
   "version": "3.10.4"
  },
  "orig_nbformat": 4,
  "vscode": {
   "interpreter": {
    "hash": "1f3a531bbf0f29f3151f5bd039b6fdd9153dda7bdef41c4c202a07430fcab450"
   }
  }
 },
 "nbformat": 4,
 "nbformat_minor": 2
}
