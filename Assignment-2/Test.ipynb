{
 "cells": [
  {
   "cell_type": "code",
   "execution_count": 2,
   "metadata": {},
   "outputs": [],
   "source": [
    "import numpy as np"
   ]
  },
  {
   "cell_type": "code",
   "execution_count": 3,
   "metadata": {},
   "outputs": [
    {
     "name": "stdout",
     "output_type": "stream",
     "text": [
      "12.3 µs ± 170 ns per loop (mean ± std. dev. of 7 runs, 100,000 loops each)\n",
      "[[1.00000000e+00 3.35462628e-04 1.26641655e-14]\n",
      " [3.35462628e-04 1.00000000e+00 3.35462628e-04]\n",
      " [1.26641655e-14 3.35462628e-04 1.00000000e+00]]\n",
      "2.33 µs ± 116 ns per loop (mean ± std. dev. of 7 runs, 100,000 loops each)\n",
      "[[1.00000000e+00 3.35462628e-04 1.26641655e-14]\n",
      " [3.35462628e-04 1.00000000e+00 3.35462628e-04]\n",
      " [1.26641655e-14 3.35462628e-04 1.00000000e+00]]\n"
     ]
    }
   ],
   "source": [
    "def calculate_kernel(x, y, kernel, kernel_param):\n",
    "    \"\"\"\n",
    "    Calculate the kernel between x and y\n",
    "    \"\"\"\n",
    "    if kernel == 'linear':\n",
    "        return np.dot(x, y)\n",
    "    elif kernel == 'poly':\n",
    "        return (1 + np.dot(x, y)) ** kernel_param\n",
    "    elif kernel == 'rbf':\n",
    "        return np.exp(-kernel_param * np.dot(x - y, x - y))\n",
    "\n",
    "def calculate_kernel_matrix_old(X, kernel, kernel_param):\n",
    "    \"\"\"\n",
    "    Calculate the kernel matrix for the data X\n",
    "    \"\"\"\n",
    "    K = np.zeros((X.shape[0], X.shape[0]))\n",
    "    for i in range(len(X)):\n",
    "        for j in range(len(X)):\n",
    "            K[i, j] = calculate_kernel(X[i], X[j], kernel, kernel_param)\n",
    "    return K\n",
    "\n",
    "def calculate_kernel_matrix(X, kernel, kernel_param):\n",
    "    \"\"\"\n",
    "    Calculate the kernel matrix for the data X\n",
    "    \"\"\"\n",
    "    if(kernel == 'linear'):\n",
    "        return np.matmul(X, X.T)\n",
    "    elif(kernel == 'poly'):\n",
    "        return (1 + np.matmul(X, X.T)) ** kernel_param\n",
    "    elif(kernel == 'rbf'):\n",
    "        # kernel(X, Y) = exp(-gamma * ||X - Y||^2)\n",
    "        return (np.exp(-kernel_param * (np.sum(X**2, axis=1)[:, np.newaxis] + np.sum(X**2, axis=1) - 2 * np.matmul(X, X.T))))\n",
    "\n",
    "X_train = np.array([[1, 2], [2, 3], [3, 4]])\n",
    "\n",
    "kernel_X = calculate_kernel_matrix_old(X_train, 'rbf', 4)\n",
    "time_taken = %timeit -o calculate_kernel_matrix_old(X_train, 'poly', 4)\n",
    "print(kernel_X)\n",
    "kernel_X = calculate_kernel_matrix(X_train, 'rbf', 4)\n",
    "time_taken = %timeit -o calculate_kernel_matrix(X_train, 'poly', 4)\n",
    "print(kernel_X)"
   ]
  },
  {
   "cell_type": "code",
   "execution_count": 20,
   "metadata": {},
   "outputs": [
    {
     "name": "stderr",
     "output_type": "stream",
     "text": [
      "C:\\Users\\bersi\\AppData\\Local\\Temp\\ipykernel_11132\\422941819.py:1: RuntimeWarning: overflow encountered in exp\n",
      "  np.exp(5874.674294394035)\n"
     ]
    },
    {
     "data": {
      "text/plain": [
       "1.0"
      ]
     },
     "execution_count": 20,
     "metadata": {},
     "output_type": "execute_result"
    }
   ],
   "source": [
    "np.exp(5874.674294394035)\n",
    "np.sign(0)"
   ]
  },
  {
   "cell_type": "code",
   "execution_count": 3,
   "metadata": {},
   "outputs": [
    {
     "name": "stdout",
     "output_type": "stream",
     "text": [
      "['arr_0', 'arr_1', 'arr_2', 'arr_3']\n",
      "(1500, 2)\n",
      "(1500,)\n",
      "(500, 2)\n",
      "(500,)\n",
      "['arr_0', 'arr_1', 'arr_2', 'arr_3']\n",
      "(1500, 2)\n",
      "(1500,)\n",
      "(500, 2)\n",
      "(500,)\n",
      "['arr_0', 'arr_1', 'arr_2', 'arr_3']\n",
      "(1500, 64)\n",
      "(1500,)\n",
      "(297, 64)\n",
      "(297,)\n",
      "['arr_0', 'arr_1', 'arr_2', 'arr_3']\n",
      "(400, 30)\n",
      "(400,)\n",
      "(169, 30)\n",
      "(169,)\n"
     ]
    }
   ],
   "source": [
    "for a in ['A', 'B', 'C', 'D']:\n",
    "    data = np.load(\"../Data/dataset_{}.npz\".format(a))\n",
    "    print(data.files)\n",
    "    print(data['arr_0'].shape)\n",
    "    print(data['arr_1'].shape)\n",
    "    print(data['arr_2'].shape)\n",
    "    print(data['arr_3'].shape)"
   ]
  }
 ],
 "metadata": {
  "kernelspec": {
   "display_name": "Python 3.10.4 64-bit",
   "language": "python",
   "name": "python3"
  },
  "language_info": {
   "codemirror_mode": {
    "name": "ipython",
    "version": 3
   },
   "file_extension": ".py",
   "mimetype": "text/x-python",
   "name": "python",
   "nbconvert_exporter": "python",
   "pygments_lexer": "ipython3",
   "version": "3.10.4"
  },
  "orig_nbformat": 4,
  "vscode": {
   "interpreter": {
    "hash": "1f3a531bbf0f29f3151f5bd039b6fdd9153dda7bdef41c4c202a07430fcab450"
   }
  }
 },
 "nbformat": 4,
 "nbformat_minor": 2
}
