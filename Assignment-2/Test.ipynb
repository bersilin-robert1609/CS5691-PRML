{
 "cells": [
  {
   "cell_type": "code",
   "execution_count": 1,
   "metadata": {},
   "outputs": [],
   "source": [
    "import numpy as np"
   ]
  },
  {
   "cell_type": "code",
   "execution_count": 10,
   "metadata": {},
   "outputs": [
    {
     "name": "stdout",
     "output_type": "stream",
     "text": [
      "True\n",
      "672 ms ± 17.9 ms per loop (mean ± std. dev. of 7 runs, 1 loop each)\n",
      "6.61 ms ± 204 µs per loop (mean ± std. dev. of 7 runs, 100 loops each)\n"
     ]
    }
   ],
   "source": [
    "def calculate_kernel(x, y, kernel, kernel_param):\n",
    "    \"\"\"\n",
    "    Calculate the kernel between x and y\n",
    "    \"\"\"\n",
    "    if kernel == 'linear':\n",
    "        return np.dot(x, y)\n",
    "    elif kernel == 'poly':\n",
    "        return (1 + np.dot(x, y)) ** kernel_param\n",
    "    elif kernel == 'rbf':\n",
    "        return np.exp(-kernel_param * np.dot(x - y, x - y))\n",
    "\n",
    "def calculate_kernel_matrix_old(X, kernel, kernel_param):\n",
    "    \"\"\"\n",
    "    Calculate the kernel matrix for the data X\n",
    "    \"\"\"\n",
    "    K = np.zeros((X.shape[0], X.shape[0]))\n",
    "    for i in range(len(X)):\n",
    "        for j in range(len(X)):\n",
    "            K[i, j] = calculate_kernel(X[i], X[j], kernel, kernel_param)\n",
    "    return K\n",
    "\n",
    "def calculate_kernel_matrix(X, kernel, kernel_param):\n",
    "    \"\"\"\n",
    "    Calculate the kernel matrix for the data X\n",
    "    \"\"\"\n",
    "    if(kernel == 'linear'):\n",
    "        return np.matmul(X, X.T)\n",
    "    elif(kernel == 'poly'):\n",
    "        return (1 + np.matmul(X, X.T)) ** kernel_param\n",
    "    elif(kernel == 'rbf'):\n",
    "        # kernel(X, Y) = exp(-gamma * ||X - Y||^2)\n",
    "        return (np.exp(-kernel_param * (np.sum(X**2, axis=1)[:, np.newaxis] + np.sum(X**2, axis=1) - 2 * np.matmul(X, X.T))))\n",
    "\n",
    "# 500 * 500 rand array\n",
    "X_train = np.random.rand(500, 500)\n",
    "\n",
    "kernel_X_old = calculate_kernel_matrix_old(X_train, 'rbf', 4)\n",
    "kernel_X_new = calculate_kernel_matrix(X_train, 'rbf', 4)\n",
    "# check if same\n",
    "print(np.allclose(kernel_X_old, kernel_X_new, rtol=1e-05, atol=1e-08))\n",
    "# time comparision\n",
    "%timeit calculate_kernel_matrix_old(X_train, 'rbf', 4)\n",
    "%timeit calculate_kernel_matrix(X_train, 'rbf', 4)"
   ]
  },
  {
   "cell_type": "code",
   "execution_count": 20,
   "metadata": {},
   "outputs": [
    {
     "name": "stderr",
     "output_type": "stream",
     "text": [
      "C:\\Users\\bersi\\AppData\\Local\\Temp\\ipykernel_11132\\422941819.py:1: RuntimeWarning: overflow encountered in exp\n",
      "  np.exp(5874.674294394035)\n"
     ]
    },
    {
     "data": {
      "text/plain": [
       "1.0"
      ]
     },
     "execution_count": 20,
     "metadata": {},
     "output_type": "execute_result"
    }
   ],
   "source": [
    "np.exp(5874.674294394035)\n",
    "np.sign(0)"
   ]
  },
  {
   "cell_type": "code",
   "execution_count": 6,
   "metadata": {},
   "outputs": [
    {
     "name": "stdout",
     "output_type": "stream",
     "text": [
      "['arr_0', 'arr_1', 'arr_2', 'arr_3']\n",
      "(1500, 2)\n",
      "(1500,)\n",
      "(500, 2)\n",
      "(500,)\n",
      "[0.87224379 0.50577632]\n",
      "['arr_0', 'arr_1', 'arr_2', 'arr_3']\n",
      "(1500, 2)\n",
      "(1500,)\n",
      "(500, 2)\n",
      "(500,)\n",
      "[0.57555848 0.58347663]\n",
      "['arr_0', 'arr_1', 'arr_2', 'arr_3']\n",
      "(1500, 64)\n",
      "(1500,)\n",
      "(297, 64)\n",
      "(297,)\n",
      "[0.         0.88941529 4.76789872 4.29231556 4.27677261 5.67625322\n",
      " 3.44715303 1.06504126 0.10306417 3.16453261 5.40637693 3.98859574\n",
      " 4.71803627 6.01451618 3.61807678 0.84184216 0.06823163 3.59937303\n",
      " 5.63271965 5.79542268 6.13252908 6.18364452 3.35741303 0.46072937\n",
      " 0.03649049 3.15830306 6.16701707 5.89149575 6.14099011 5.85311537\n",
      " 3.71133399 0.05157088 0.         3.43167364 6.25080034 6.30328377\n",
      " 5.93987935 5.82683673 3.55466335 0.         0.15250647 2.91618465\n",
      " 6.51062598 6.37576662 6.26534582 5.63800816 4.42701459 0.33231511\n",
      " 0.22343878 1.80229224 5.63023978 5.19196234 5.33584541 5.95461991\n",
      " 4.97077307 1.02236241 0.02581128 0.89689439 5.10239926 4.347586\n",
      " 4.83954249 5.94892614 4.3019939  2.01594136]\n",
      "['arr_0', 'arr_1', 'arr_2', 'arr_3']\n",
      "(400, 30)\n",
      "(400,)\n",
      "(169, 30)\n",
      "(169,)\n",
      "[3.57378915e+00 4.11675758e+00 2.46195812e+01 3.56828591e+02\n",
      " 1.39072703e-02 5.48451346e-02 8.20544491e-02 3.99146544e-02\n",
      " 2.84189466e-02 7.21859776e-03 2.77288250e-01 5.37680602e-01\n",
      " 2.04036176e+00 4.35650154e+01 3.06521337e-03 1.91639231e-02\n",
      " 3.33491925e-02 6.44382048e-03 9.05008988e-03 2.88512652e-03\n",
      " 4.95765203e+00 6.11217768e+00 3.43558884e+01 5.82468239e+02\n",
      " 2.33976397e-02 1.66010163e-01 2.13323635e-01 6.77399397e-02\n",
      " 6.69348759e-02 1.89884459e-02]\n"
     ]
    }
   ],
   "source": [
    "for a in ['A', 'B', 'C', 'D']:\n",
    "    data = np.load(\"../Data/dataset_{}.npz\".format(a))\n",
    "    print(data.files)\n",
    "    print(data['arr_0'].shape)\n",
    "    print(data['arr_1'].shape)\n",
    "    print(data['arr_2'].shape)\n",
    "    print(data['arr_3'].shape)\n",
    "\n",
    "    X_train = data['arr_0']\n",
    "    y_train = data['arr_1']\n",
    "    X_test = data['arr_2']\n",
    "    y_test = data['arr_3']\n",
    "\n",
    "    print(np.std(X_train, axis=0))"
   ]
  },
  {
   "cell_type": "code",
   "execution_count": 5,
   "metadata": {},
   "outputs": [
    {
     "data": {
      "text/plain": [
       "1"
      ]
     },
     "execution_count": 5,
     "metadata": {},
     "output_type": "execute_result"
    }
   ],
   "source": [
    "np.power(2, 1 != 1)"
   ]
  }
 ],
 "metadata": {
  "kernelspec": {
   "display_name": "Python 3.10.4 64-bit",
   "language": "python",
   "name": "python3"
  },
  "language_info": {
   "codemirror_mode": {
    "name": "ipython",
    "version": 3
   },
   "file_extension": ".py",
   "mimetype": "text/x-python",
   "name": "python",
   "nbconvert_exporter": "python",
   "pygments_lexer": "ipython3",
   "version": "3.10.4"
  },
  "orig_nbformat": 4,
  "vscode": {
   "interpreter": {
    "hash": "1f3a531bbf0f29f3151f5bd039b6fdd9153dda7bdef41c4c202a07430fcab450"
   }
  }
 },
 "nbformat": 4,
 "nbformat_minor": 2
}
