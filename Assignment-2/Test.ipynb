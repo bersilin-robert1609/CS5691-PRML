{
 "cells": [
  {
   "cell_type": "code",
   "execution_count": 2,
   "metadata": {},
   "outputs": [],
   "source": [
    "import numpy as np"
   ]
  },
  {
   "cell_type": "code",
   "execution_count": 23,
   "metadata": {},
   "outputs": [
    {
     "name": "stdout",
     "output_type": "stream",
     "text": [
      "[1 2]\n",
      "[1 2]\n",
      "5\n",
      "[1 2]\n",
      "[2 3]\n",
      "8\n",
      "[1 2]\n",
      "[3 4]\n",
      "11\n",
      "[2 3]\n",
      "[1 2]\n",
      "8\n",
      "[2 3]\n",
      "[2 3]\n",
      "13\n",
      "[2 3]\n",
      "[3 4]\n",
      "18\n",
      "[3 4]\n",
      "[1 2]\n",
      "11\n",
      "[3 4]\n",
      "[2 3]\n",
      "18\n",
      "[3 4]\n",
      "[3 4]\n",
      "25\n",
      "[[1.00001792 1.00002197 1.00002485]\n",
      " [1.00002197 1.00002639 1.00002944]\n",
      " [1.00002485 1.00002944 1.00003258]]\n",
      "inf\n"
     ]
    },
    {
     "name": "stderr",
     "output_type": "stream",
     "text": [
      "C:\\Users\\bersi\\AppData\\Local\\Temp\\ipykernel_11132\\2713488236.py:32: RuntimeWarning: overflow encountered in exp\n",
      "  print(np.exp(5645.53423423))\n"
     ]
    }
   ],
   "source": [
    "def calculate_kernel(x, y, kernel, kernel_param):\n",
    "    \"\"\"\n",
    "    Calculate the kernel between x and y\n",
    "    \"\"\"\n",
    "    if kernel == 'linear':\n",
    "        return np.dot(x, y)\n",
    "    elif kernel == 'poly':\n",
    "        return (1 + np.dot(x, y)) ** kernel_param\n",
    "    elif kernel == 'rbf':\n",
    "        return np.exp(-kernel_param * np.linalg.norm(x - y) ** 2)\n",
    "\n",
    "def calculate_kernel_matrix(X, kernel, kernel_param):\n",
    "    \"\"\"\n",
    "    Calculate the kernel matrix for the data X\n",
    "    \"\"\"\n",
    "    K = np.zeros((X.shape[0], X.shape[0]))\n",
    "    for i in range(len(X)):\n",
    "        for j in range(len(X)):\n",
    "            print(X_train[i])\n",
    "            print(X_train[j])\n",
    "            print(np.dot(X_train[i], X_train[j]))\n",
    "            K[i, j] = calculate_kernel(X[i], X[j], kernel, kernel_param)\n",
    "    \n",
    "    return K\n",
    "\n",
    "X_train = np.array([[1, 2], [2, 3], [3, 4]])\n",
    "\n",
    "kernel_X = calculate_kernel_matrix(X_train, 'poly', 0.0001)\n",
    "\n",
    "print(kernel_X)\n",
    "\n",
    "print(np.exp(5645.53423423))"
   ]
  },
  {
   "cell_type": "code",
   "execution_count": 20,
   "metadata": {},
   "outputs": [
    {
     "name": "stderr",
     "output_type": "stream",
     "text": [
      "C:\\Users\\bersi\\AppData\\Local\\Temp\\ipykernel_11132\\422941819.py:1: RuntimeWarning: overflow encountered in exp\n",
      "  np.exp(5874.674294394035)\n"
     ]
    },
    {
     "data": {
      "text/plain": [
       "1.0"
      ]
     },
     "execution_count": 20,
     "metadata": {},
     "output_type": "execute_result"
    }
   ],
   "source": [
    "np.exp(5874.674294394035)\n",
    "np.sign(0)"
   ]
  },
  {
   "cell_type": "code",
   "execution_count": 3,
   "metadata": {},
   "outputs": [
    {
     "name": "stdout",
     "output_type": "stream",
     "text": [
      "['arr_0', 'arr_1', 'arr_2', 'arr_3']\n",
      "(1500, 2)\n",
      "(1500,)\n",
      "(500, 2)\n",
      "(500,)\n",
      "['arr_0', 'arr_1', 'arr_2', 'arr_3']\n",
      "(1500, 2)\n",
      "(1500,)\n",
      "(500, 2)\n",
      "(500,)\n",
      "['arr_0', 'arr_1', 'arr_2', 'arr_3']\n",
      "(1500, 64)\n",
      "(1500,)\n",
      "(297, 64)\n",
      "(297,)\n",
      "['arr_0', 'arr_1', 'arr_2', 'arr_3']\n",
      "(400, 30)\n",
      "(400,)\n",
      "(169, 30)\n",
      "(169,)\n"
     ]
    }
   ],
   "source": [
    "for a in ['A', 'B', 'C', 'D']:\n",
    "    data = np.load(\"../Data/dataset_{}.npz\".format(a))\n",
    "    print(data.files)\n",
    "    print(data['arr_0'].shape)\n",
    "    print(data['arr_1'].shape)\n",
    "    print(data['arr_2'].shape)\n",
    "    print(data['arr_3'].shape)"
   ]
  }
 ],
 "metadata": {
  "kernelspec": {
   "display_name": "Python 3.10.4 64-bit",
   "language": "python",
   "name": "python3"
  },
  "language_info": {
   "codemirror_mode": {
    "name": "ipython",
    "version": 3
   },
   "file_extension": ".py",
   "mimetype": "text/x-python",
   "name": "python",
   "nbconvert_exporter": "python",
   "pygments_lexer": "ipython3",
   "version": "3.10.4"
  },
  "orig_nbformat": 4,
  "vscode": {
   "interpreter": {
    "hash": "1f3a531bbf0f29f3151f5bd039b6fdd9153dda7bdef41c4c202a07430fcab450"
   }
  }
 },
 "nbformat": 4,
 "nbformat_minor": 2
}
